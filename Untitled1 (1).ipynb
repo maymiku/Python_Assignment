{
  "cells": [
    {
      "cell_type": "code",
      "execution_count": null,
      "metadata": {
        "id": "FQh7rt4xItti"
      },
      "outputs": [],
      "source": [
        "import pandas as pd\n",
        "import pandas as pd\n",
        "import seaborn as sns\n",
        "import matplotlib.pyplot as plt\n",
        "from sklearn.preprocessing import LabelEncoder\n",
        "from sklearn.naive_bayes import CategoricalNB\n",
        "from sklearn.metrics import classification_report\n",
        "from sklearn.model_selection import train_test_split\n",
        "\n",
        "def convert_to_numeric(text):\n",
        "    if text.endswith('Crore+'):\n",
        "        return float(text.replace(' Crore+', '')) * 1e7\n",
        "    elif text.endswith('Lac+'):\n",
        "        return float(text.replace(' Lac+', '')) * 1e5\n",
        "    elif text.endswith('Thousand+'):\n",
        "        return float(text.replace(' Thousand+', '')) * 1e3\n",
        "    elif text.endswith('Hund+'):\n",
        "        return float(text.replace(' Hund+', '')) * 1e2\n",
        "    else:\n",
        "        try:\n",
        "            return float(text)\n",
        "        except ValueError:\n",
        "            return 0.0\n",
        "\n",
        "train_df = pd.read_csv(\"train.csv\")\n",
        "test_df = pd.read_csv(\"test.csv\")\n",
        "\n",
        "train_df.fillna(0, inplace=True)\n",
        "test_df.fillna(0, inplace=True)\n",
        "\n",
        "train_df['Total Assets'] = train_df['Total Assets'].apply(convert_to_numeric)\n",
        "test_df['Total Assets'] = test_df['Total Assets'].apply(convert_to_numeric)\n",
        "\n",
        "train_df['Liabilities'] = train_df['Liabilities'].apply(convert_to_numeric)\n",
        "test_df['Liabilities'] = test_df['Liabilities'].apply(convert_to_numeric)\n",
        "\n",
        "combined_df = pd.concat([train_df, test_df])\n",
        "\n",
        "label_encoder = LabelEncoder()\n",
        "combined_df['state'] = label_encoder.fit_transform(combined_df['state'])\n",
        "combined_df['Party'] = label_encoder.fit_transform(combined_df['Party'])\n",
        "\n",
        "label_encoder = LabelEncoder()\n",
        "combined_df['Education'] = label_encoder.fit_transform(combined_df['Education'])\n",
        "\n",
        "train_df = combined_df[:len(train_df)]\n",
        "test_df = combined_df[len(train_df):]\n",
        "\n",
        "columns_to_drop = ['ID', 'Candidate', 'Constituency ∇']\n",
        "X_train = train_df.drop(columns=columns_to_drop + ['Education'])\n",
        "y_train = train_df['Education']\n",
        "x_test = test_df.drop(columns=columns_to_drop + ['Education'])\n",
        "\n",
        "model = CategoricalNB(alpha=0.0, min_categories=1414)\n",
        "\n",
        "model.fit(X_train, y_train)\n",
        "\n",
        "X_train_split, X_test_split, y_train_split, y_test_split = train_test_split(X_train, y_train, test_size=0.2, random_state=101)\n",
        "y_pred = model.predict(X_test_split)\n",
        "print(\"Classification Report on Training Data:\")\n",
        "print(classification_report(y_test_split, y_pred))\n",
        "\n",
        "prediction = model.predict(x_test)\n",
        "predictions_labels = label_encoder.inverse_transform(prediction)\n",
        "\n",
        "submission_df = pd.DataFrame({'ID': test_df['ID'], 'Education': predictions_labels})\n",
        "submission_df.to_csv(\"submission.csv\", index=False)\n"
      ]
    }
  ],
  "metadata": {
    "colab": {
      "provenance": []
    },
    "kernelspec": {
      "display_name": "Python 3",
      "name": "python3"
    },
    "language_info": {
      "name": "python"
    }
  },
  "nbformat": 4,
  "nbformat_minor": 0
}